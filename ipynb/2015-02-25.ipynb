{
 "metadata": {
  "name": ""
 },
 "nbformat": 3,
 "nbformat_minor": 0,
 "worksheets": [
  {
   "cells": [
    {
     "cell_type": "code",
     "collapsed": false,
     "input": [
      "%load scripts/pairwise_log16S_corr.py\n",
      "# And then delete the if __name___ part,\n",
      "# since ipython cells execute as __main__."
     ],
     "language": "python",
     "metadata": {},
     "outputs": []
    },
    {
     "cell_type": "code",
     "collapsed": false,
     "input": [
      "tree = read_tree('tre/bacteria.names.nwk', 'newick', rooted=True)\n",
      "char_table = read_table('meta/K0.tsv', index_col=0)\n",
      "trt1 = char_table.columns[0]\n",
      "gene_names = char_table.columns[1:]"
     ],
     "language": "python",
     "metadata": {},
     "outputs": []
    },
    {
     "cell_type": "code",
     "collapsed": false,
     "input": [
      "pairs = mixed_pairs(tree.clade, lambda taxon: char_table[trt1][taxon])"
     ],
     "language": "python",
     "metadata": {},
     "outputs": []
    },
    {
     "cell_type": "code",
     "collapsed": false,
     "input": [
      "contrast_table = contrast_pairs(char_table[[trt1]], pairs)\n",
      "\n",
      "tables = []\n",
      "for gene in gene_names:\n",
      "    tables.append(contrast_pairs(char_table[[gene]], pairs))\n",
      "    \n",
      "contrast_table = contrast_table.join(contrasts)"
     ],
     "language": "python",
     "metadata": {},
     "outputs": []
    },
    {
     "cell_type": "code",
     "collapsed": false,
     "input": [
      "import scipy as sp\n",
      "\n",
      "output1 = []\n",
      "for gene in gene_names:\n",
      "    corr, p_value = sp.stats.kendalltau(contrast_table['copies16S'], contrast_table[gene])\n",
      "    output1.append((gene, corr, p_value))\n",
      "real_corr_table = DataFrame(output1, columns=('trait', 'kendall_t', 'kendall_p'))\n",
      "real_corr_table = real_corr_table.set_index('trait')\n",
      "\n",
      "perm_contrast_table = permute_data(contrast_table, 'copies16S')\n",
      "\n",
      "output2 = []\n",
      "for gene in gene_names:\n",
      "    null_corr, null_p_value = sp.stats.kendalltau(perm_contrast_table['copies16S'],\n",
      "                                                  perm_contrast_table[gene])\n",
      "    output2.append((gene, null_corr, null_p_value))\n",
      "null_corr_table = DataFrame(output2, columns=('trait', 'kendall_t_null', 'kendall_p_null'))\n",
      "null_corr_table = null_corr_table.set_index('trait')\n",
      "\n",
      "corr_table = real_corr_table.join(null_corr_table)"
     ],
     "language": "python",
     "metadata": {},
     "outputs": []
    },
    {
     "cell_type": "markdown",
     "metadata": {},
     "source": [
      "Can't we look at the region of the tail of the \"real\" distribution,\n",
      "which is not overlapped by the null distribution, and use this to asses\n",
      "the number of \"real\" discoveries?"
     ]
    },
    {
     "cell_type": "code",
     "collapsed": false,
     "input": [
      "fdr_cutoff = lambda null_ps, max_fdr: null_ps.dropna().sort(inplace=False)\\\n",
      "                                      [int(len(null_ps.dropna()) * max_fdr)]"
     ],
     "language": "python",
     "metadata": {},
     "outputs": []
    },
    {
     "cell_type": "code",
     "collapsed": false,
     "input": [
      "plt.hist([-np.log10(corr_table.kendall_p),\n",
      "          -np.log10(corr_table.kendall_p_null)],\n",
      "         bins=np.linspace(0, 10, 50), histtype='stepfilled', alpha=0.5)\n",
      "plt.axvline(-np.log10(fdr_cutoff(corr_table.kendall_p_null, 0.05)),\n",
      "            c='red')\n",
      "plt.xlabel(r\"$-\\log_{10}(p)$\")\n",
      "print(fdr_cutoff(corr_table.kendall_p_null, 0.05))"
     ],
     "language": "python",
     "metadata": {},
     "outputs": []
    },
    {
     "cell_type": "code",
     "collapsed": false,
     "input": [
      "plt.hist([corr_table.kendall_t.abs(),\n",
      "          corr_table.kendall_t_null.abs()],\n",
      "         bins=np.linspace(0, 1, 50), histtype='stepfilled', alpha=0.5)\n",
      "plt.axvline(fdr_cutoff(corr_table.kendall_t_null.abs(), 0.95),\n",
      "            c='red')\n",
      "plt.xlabel(r\"$|\\tau|$\")\n",
      "print(fdr_cutoff(corr_table.kendall_t_null.abs(), 0.95))"
     ],
     "language": "python",
     "metadata": {},
     "outputs": []
    },
    {
     "cell_type": "code",
     "collapsed": false,
     "input": [
      "# Do it all over again to compare\n",
      "\n",
      "output1 = []\n",
      "for gene in gene_names:\n",
      "    corr, p_value = sp.stats.kendalltau(contrast_table['copies16S'], contrast_table[gene])\n",
      "    output1.append((gene, corr, p_value))\n",
      "real_corr_table = DataFrame(output1, columns=('trait', 'kendall_t', 'kendall_p'))\n",
      "real_corr_table = real_corr_table.set_index('trait')\n",
      "\n",
      "perm_contrast_table = permute_data(contrast_table, 'copies16S')\n",
      "\n",
      "output2 = []\n",
      "for gene in gene_names:\n",
      "    null_corr, null_p_value = sp.stats.kendalltau(perm_contrast_table['copies16S'],\n",
      "                                                  perm_contrast_table[gene])\n",
      "    output2.append((gene, null_corr, null_p_value))\n",
      "null_corr_table = DataFrame(output2, columns=('trait', 'kendall_t_null', 'kendall_p_null'))\n",
      "null_corr_table = null_corr_table.set_index('trait')\n",
      "\n",
      "corr_table = real_corr_table.join(null_corr_table)"
     ],
     "language": "python",
     "metadata": {},
     "outputs": []
    },
    {
     "cell_type": "code",
     "collapsed": false,
     "input": [
      "plt.hist([-np.log10(corr_table.kendall_p),\n",
      "          -np.log10(corr_table.kendall_p_null)],\n",
      "         bins=np.linspace(0, 10, 50), histtype='stepfilled', alpha=0.5)\n",
      "plt.axvline(-np.log10(fdr_cutoff(corr_table.kendall_p_null, 0.05)),\n",
      "            c='red')\n",
      "plt.xlabel(r\"$-\\log_{10}(p)$\")\n",
      "print(fdr_cutoff(corr_table.kendall_p_null, 0.05))"
     ],
     "language": "python",
     "metadata": {},
     "outputs": []
    },
    {
     "cell_type": "code",
     "collapsed": false,
     "input": [
      "plt.hist([corr_table.kendall_t.abs(),\n",
      "          corr_table.kendall_t_null.abs()],\n",
      "         bins=np.linspace(0, 1, 50), histtype='stepfilled', alpha=0.5)\n",
      "plt.axvline(fdr_cutoff(corr_table.kendall_t_null.abs(), 0.95),\n",
      "            c='red')\n",
      "plt.xlabel(r\"$|\\tau|$\")\n",
      "print(fdr_cutoff(corr_table.kendall_t_null.abs(), 0.95))"
     ],
     "language": "python",
     "metadata": {},
     "outputs": []
    },
    {
     "cell_type": "code",
     "collapsed": false,
     "input": [
      "def outer_frac(x, p, tails=1, sorted=False, na_dropped=False):\n",
      "    if sorted:\n",
      "        values = pd.Series(x)\n",
      "    else:\n",
      "        values = pd.Series(x).sort(inplace=False)\n",
      "    \n",
      "    if not na_dropped:\n",
      "        values = values.dropna()\n",
      "        \n",
      "    length = len(values)\n",
      "    if tails == 1:\n",
      "        return values.iloc[int(length * p)]\n",
      "    elif tails == 2:\n",
      "        return (values.iloc[int(length *      (p / 2))],\n",
      "                values.iloc[int(length * (1 - (p / 2)))])\n",
      "    else:\n",
      "        raise ValueError(\"*tails* must be 1 or 2, not {}\".fmt(tails))"
     ],
     "language": "python",
     "metadata": {},
     "outputs": []
    },
    {
     "cell_type": "code",
     "collapsed": false,
     "input": [
      "thresh_low, thresh_high = outer_frac(corr_table.kendall_t_null, 0.02, tails=2)\n",
      "hits = corr_table[(corr_table.kendall_t < thresh_low) |\n",
      "                  (corr_table.kendall_t > thresh_high)]"
     ],
     "language": "python",
     "metadata": {},
     "outputs": []
    }
   ],
   "metadata": {}
  }
 ]
}