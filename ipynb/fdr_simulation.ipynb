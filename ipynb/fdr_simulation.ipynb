{
 "metadata": {
  "name": ""
 },
 "nbformat": 3,
 "nbformat_minor": 0,
 "worksheets": [
  {
   "cells": [
    {
     "cell_type": "code",
     "collapsed": false,
     "input": [
      "# SIMULATION TIME!!!!\n",
      "from scipy.stats import norm, multivariate_normal\n",
      "from scipy.stats import kendalltau\n",
      "from numpy.random import permutation\n",
      "import pandas as pd\n",
      "import numpy as np\n",
      "\n",
      "p = 500  # Number of true correlations\n",
      "q = 500  # Number of non-correlations\n",
      "n = 100  # Length of vectors sampled from\n",
      "         # correlated (or not) distrubtions.\n",
      "\n",
      "# Distribution of correlation values for true correlations\n",
      "c_dist = lambda size: norm.rvs(0, 0.2, size)\n",
      "\n",
      "multi_rvs = lambda c, size: multivariate_normal.rvs(cov=[[1, c],[c, 1]], size=size)\n",
      "\n",
      "# Truly correlated pairs of vectors + uncorrelated pairs of vectors\n",
      "data = [(c, multi_rvs(c, n)) for c in c_dist(p)] + \\\n",
      "       [(0, multi_rvs(0, n)) for _ in range(q)]\n",
      "\n",
      "\n",
      "c_vals = np.empty((len(data), 3), dtype=np.float64)\n",
      "for i, (c, v) in enumerate(data):\n",
      "    x, y = v[:, 0], v[:, 1]\n",
      "    c_hat = kendalltau(x, y)[0]\n",
      "    c_null = kendalltau(x, permutation(y))[0]\n",
      "    c_vals[i, :] = [c, c_hat, c_null]\n",
      "    \n",
      "data = pd.DataFrame(c_vals, columns=(\"true\", \"estimated\", \"null\"))"
     ],
     "language": "python",
     "metadata": {},
     "outputs": []
    },
    {
     "cell_type": "code",
     "collapsed": false,
     "input": [
      "from matplotlib import pyplot as plt\n",
      "\n",
      "_ = plt.hist([abs(data.true), abs(data.estimated), abs(data.null)], bins=50,\n",
      "             histtype='stepfilled', alpha=0.5, label=[r\"$\\sigma_{xy}$\", r\"$\\hat{\\tau_{xy}}$\", r\"$\\tau_0$\"])\n",
      "plt.legend()"
     ],
     "language": "python",
     "metadata": {},
     "outputs": []
    },
    {
     "cell_type": "code",
     "collapsed": false,
     "input": [
      "# So, what I need to do is define the $\\tau$ cutoff based on the\n",
      "# value which produces a given fraction false positives in\n",
      "# the permuted distribution.\n",
      "\n",
      "folded = data.apply(abs, axis=1)\n",
      "#print(data.head())\n",
      "#print(folded.head())\n",
      "\n",
      "\n",
      "fdr_cutoff_data = folded.null.sort(inplace=False, ascending=False).reset_index()['null']\n",
      "get_threshold = lambda q: fdr_cutoff_data[int(q * len(fdr_cutoff_data))]\n",
      "\n",
      "plt.hist(fdr_cutoff_data)\n",
      "plt.axvline(get_threshold(0.05), color='red')\n",
      "print(get_threshold(0.05))"
     ],
     "language": "python",
     "metadata": {},
     "outputs": []
    },
    {
     "cell_type": "code",
     "collapsed": false,
     "input": [
      "len(data[(data.estimated.abs() > get_threshold(0.05)) & (data.true == 0)])\n",
      "# 26 results come back as false positives.\n",
      "# My false discovery rate was set to 0.05, for 500 non-correlations\n",
      "# which means I expected 25\n",
      "\n",
      "# So how do I determine my false discovery rate if I don't know the true\n",
      "# number of negatives in my population?"
     ],
     "language": "python",
     "metadata": {},
     "outputs": []
    },
    {
     "cell_type": "code",
     "collapsed": false,
     "input": [
      "print(len(data[(data.estimated.abs() > get_threshold(0.05)) & (data.true.abs() > 0)]))\n",
      "# 190 true correlations were found out of 500, so my false negative rate is quite high."
     ],
     "language": "python",
     "metadata": {},
     "outputs": []
    },
    {
     "cell_type": "code",
     "collapsed": false,
     "input": [
      "qq = np.linspace(0, 0.99, 50)\n",
      "fp = []\n",
      "fn = []\n",
      "tp = []\n",
      "tn = []\n",
      "for q in qq:\n",
      "    fp.append(len(data[(data.estimated.abs() > get_threshold(q)) & (data.true == 0)]))\n",
      "    fn.append(len(data[(data.estimated.abs() < get_threshold(q)) & (data.true.abs() > 0)]))\n",
      "    tp.append(len(data[(data.estimated.abs() > get_threshold(q)) & (data.true.abs() > 0)]))\n",
      "    tn.append(len(data[(data.estimated.abs() < get_threshold(q)) & (data.true == 0)]))\n",
      "    \n",
      "plt.plot(qq, fp, label=\"False Positives\")\n",
      "#plt.plot(qq, fn, label=\"False Negatives\")\n",
      "plt.plot(qq, tp, label=\"True Positives\")\n",
      "#plt.plot(qq, tn, label=\"True Negatives\")\n",
      "plt.xlabel(\"q-threshold\")\n",
      "plt.legend(loc='lower right')"
     ],
     "language": "python",
     "metadata": {},
     "outputs": []
    },
    {
     "cell_type": "code",
     "collapsed": false,
     "input": [
      "len(data[data.estimated.abs() > get_threshold(0.05)])"
     ],
     "language": "python",
     "metadata": {},
     "outputs": []
    }
   ],
   "metadata": {}
  }
 ]
}